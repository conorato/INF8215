{
  "nbformat": 4,
  "nbformat_minor": 0,
  "metadata": {
    "colab": {
      "name": "TP2_INF8215.ipynb",
      "provenance": [],
      "collapsed_sections": [],
      "include_colab_link": true
    },
    "kernelspec": {
      "display_name": "Python 3",
      "language": "python",
      "name": "python3"
    },
    "language_info": {
      "codemirror_mode": {
        "name": "ipython",
        "version": 3
      },
      "file_extension": ".py",
      "mimetype": "text/x-python",
      "name": "python",
      "nbconvert_exporter": "python",
      "pygments_lexer": "ipython3",
      "version": "3.7.4"
    }
  },
  "cells": [
    {
      "cell_type": "markdown",
      "metadata": {
        "id": "view-in-github",
        "colab_type": "text"
      },
      "source": [
        "<a href=\"https://colab.research.google.com/github/conorato/INF8215/blob/master/TP2_INF8215.ipynb\" target=\"_parent\"><img src=\"https://colab.research.google.com/assets/colab-badge.svg\" alt=\"Open In Colab\"/></a>"
      ]
    },
    {
      "cell_type": "markdown",
      "metadata": {
        "colab_type": "text",
        "id": "XW5cj0S5i7XV"
      },
      "source": [
        "# INF8215 - Intelligence artif.: méthodes et algorithmes \n",
        "## Automne 2019 - TP2 - Recherche Adversarielle \n",
        "### Membres de l'équipe\n",
        "    - Claudia Onorato (1845448)\n",
        "    - William Harvey (1851388)\n",
        "    - Mathieu Bélanger (1850591)\n",
        "\n",
        "\n"
      ]
    },
    {
      "cell_type": "markdown",
      "metadata": {
        "colab_type": "text",
        "id": "8xrBqBT6ychZ"
      },
      "source": [
        "## Directives de remise\n",
        "Le travail sera réalisé avec la  même équipe que pour le TP1. Vous remettrez ce fichier nommé TP2\\_NomDuMembre1\\_NomDuMembre2\\_NomDuMembre3.ipynb dans la boîte de remise sur moodle. \n",
        "\n",
        "Tout devra être remis avant le **6 novembre à 23h55**. Tout travail en retard sera pénalisé\n",
        "d’une valeur de 10\\% par jour de retard.\n",
        "\n",
        "## Barème\n",
        "Partie 1: 25 points\n",
        "\n",
        "Partie 2: 35 points\n",
        "\n",
        "Partie 3: 15 points\n",
        "\n",
        "Partie 4: 15 points\n",
        "\n",
        "Partie 5: 10 points\n",
        "\n",
        "Pour un total de 100 points possibles sur 100 points.\n"
      ]
    },
    {
      "cell_type": "markdown",
      "metadata": {
        "colab_type": "text",
        "id": "UPi0Fnabi_Wn"
      },
      "source": [
        "## Recherche Adversarielle\n",
        "\n",
        "La recherche adversarielle est une méthode d’intelligence artificielle qui est utilisée pour prédire les actions d’un adversaire dans un jeu vidéo. Il consiste à construire un arbre avec les actions possibles suivi des réactions de l’adversaire à ces actions. Pour choisir l’action optimale, il existe plusieurs méthodes. Une très commune est la recherche minimax. Elle évalue la valeur des actions et maximise la valeur de celle du joueur et minimise la valeur de celle de l’adversaire.\n",
        "\n",
        "### Rush Hour\n",
        "\n",
        "Vous avez vu le jeu de puzzle, Rush Hour, dans le TP précédent. Dans le cadre de ce TP, un adversaire a été ajouté pour transformer Rush Hour en jeu adversarielle. À chaque tour, l’adversaire ajoute une roche dans la grille. Cette roche disparaît après 1 tour et empêche les voitures de se déplacer. Son but est d’obliger le joueur à faire le plus de coups possible et de l’empêcher de bouger complètement. Le joueur peut déplacer une voiture, selon les règles vues dans le tp précédent, par tour. Cette version de Rush Hour est un jeu zero-sum déterministe.\n",
        "\n",
        "![Rushhour](https://i.stack.imgur.com/NzztF.jpg)\n",
        "\n",
        "### But\n",
        "\n",
        "Votre but dans ce TP est de développer un algorithme minimax pour permettre à votre AI de terminer le niveau de Rush Hour **avec un minimun de mouvement**. Une version complétée des classes Rush Hour et State est fournie pour vous aider à faire le TP. Ces classes vont être réutilisées pour représenter les états à évaluer. Vous pouvez les remplacer par vos propres implémentations en Python (vous pouvez aussi réécrire le TP dans le langage de votre choix).  "
      ]
    },
    {
      "cell_type": "markdown",
      "metadata": {
        "colab_type": "text",
        "id": "SYHd6JwLVTlW"
      },
      "source": [
        "## 1. Implémentation de Rush Hour (25pts)\n",
        "Les classes suivantes sont complètes pour représenter les différents états d’une partie de Rush Hour normale.\n",
        "Il manque la représentation des coups de l’adversaire : vous auriez à implémenter cette partie-là dans les classes touchées.\n",
        "\n",
        "L’état du stationnement au début et à tout moment du jeu est représenté par un objet de la classe **State** qui contient les champs suivants : \n",
        "\n",
        "- `pos` : un vecteur indiquant la position de chaque véhicule sur la grille (la valeur représente la première case occupée par la voiture);\n",
        "\n",
        "- `c` : l’index de la voiture déplacée pour atteindre l’état courant à partir de l’état précédent;\n",
        "\n",
        "- `d` : la direction du déplacement fait à partir de l’état précédent pour atteindre l’état courant (+1 : vers la droite ou vers le bas, -1 : vers la gauche ou vers le haut);\n",
        "\n",
        "- `prev` : l’état précédent\n",
        "\n",
        "- `score` : le score associé à l'état\n",
        "\n",
        "- `rock` : la position de la roche dans la grille (ligne,colonne)"
      ]
    },
    {
      "cell_type": "code",
      "metadata": {
        "colab_type": "code",
        "id": "mIvw6O-UP84r",
        "colab": {}
      },
      "source": [
        "import numpy as np\n",
        "import math\n",
        "import copy\n",
        "from collections import deque\n",
        "\n",
        "class State:\n",
        "\n",
        "    \"\"\"\n",
        "    Contructeur d'un état initial\n",
        "    \"\"\"\n",
        "    def __init__(self, pos):\n",
        "        \"\"\"\n",
        "        pos donne la position de la voiture i dans sa ligne ou colonne (première case occupée par la voiture);\n",
        "        \"\"\"\n",
        "        self.pos = np.array(pos)\n",
        "\n",
        "        \"\"\"\n",
        "        c,d et prev premettent de retracer l'état précédent et le dernier mouvement effectué\n",
        "        \"\"\"\n",
        "        self.c = self.d = self.prev = None\n",
        "\n",
        "        self.nb_moves = 0\n",
        "        self.score = 0\n",
        "\n",
        "        # TODO\n",
        "        \"\"\"\n",
        "        rock est un tuple représentant la position (ligne,colonne) de la roche\n",
        "        \"\"\"\n",
        "        self.rock = None\n",
        "\n",
        "    \"\"\"\n",
        "    Constructeur d'un état à partir du mouvement (c,d)\n",
        "    \"\"\"\n",
        "    def move(self, c, d):\n",
        "        s = State(self.pos)\n",
        "        s.prev = self\n",
        "        s.pos[c] += d\n",
        "        s.c = c\n",
        "        s.d = d\n",
        "        s.nb_moves = self.nb_moves + 1\n",
        "        # TODO\n",
        "        return s\n",
        "\n",
        "    def put_rock(self, rock_pos):\n",
        "        # TODO\n",
        "        s = State(self.pos)\n",
        "        s.rock = rock_pos\n",
        "        return s\n",
        "            \n",
        "    def score_state(self, rh):\n",
        "      rh.init_positions(self)\n",
        "\n",
        "      # check how many squares are not free from the car position and the exit knowing \n",
        "      # If a square is occupied by a truck and the truck is centered on the exit path,\n",
        "      # it has to at least move two times. \n",
        "\n",
        "      line = rh.move_on[0] # always on the 3rd line\n",
        "      nb_moves = 0\n",
        "      for column in range(self.pos[0]+rh.length[0], NB_SQUARES):\n",
        "        if not rh.free_pos[line, column]:\n",
        "          # If there's a car in the way, add one move to do\n",
        "          nb_moves += 1\n",
        "          truck_indexes = [i for i, pos in enumerate(self.pos) if pos == line - 1]\n",
        "          for truck_index in truck_indexes:\n",
        "            # Add another move to do if it's a truck that has to move 2 times to get out of the way\n",
        "            nb_moves += 1 if rh.length[truck_index] == 3 and rh.move_on[truck_index] == column else 0\n",
        "\n",
        "      self.score = (4 - self.pos[0]) + nb_moves\n",
        "\n",
        "    def success(self):\n",
        "        return self.pos[0] == 4\n",
        "    \n",
        "    def __eq__(self, other):\n",
        "        if not isinstance(other, State):\n",
        "            return NotImplemented\n",
        "        if len(self.pos) != len(other.pos):\n",
        "            print(\"les états n'ont pas le même nombre de voitures\")\n",
        "        \n",
        "        return np.array_equal(self.pos, other.pos)\n",
        "    \n",
        "    def __hash__(self):\n",
        "        h = 0\n",
        "        for i in range(len(self.pos)):\n",
        "            h = 37*h + self.pos[i]\n",
        "        return int(h)\n",
        "    \n",
        "    def __lt__(self, other):\n",
        "        return (self.score) < (other.score)\n"
      ],
      "execution_count": 0,
      "outputs": []
    },
    {
      "cell_type": "markdown",
      "metadata": {
        "colab_type": "text",
        "id": "_YHtDmyUVjRU"
      },
      "source": [
        "La représentation du problème est faite par la classe **Rushhour** qui contient les champs suivants :\n",
        "\n",
        "- `nbcars` : le nombre de voitures dans la grille;\n",
        "- `horiz` : un vecteur contenant un bool indiquant si la voiture bouge horizontalement ou pas;\n",
        "- `length`: un vecteur contenant la longueur de chaque voiture (2 ou 3);\n",
        "- `move_on` : un vecteur contenant le numéro de la ligne ou la colonne où se trouve la voiture (0-5);\n",
        "- `color` : un vecteur contenant le string indiquant la couleur de chaque voiture;\n",
        "- `free_pos` : une matrice 6x6 contenant un bool permettant de savoir si la case est libre\n",
        "\n",
        "Toutes les informations pour une voiture se trouvent dans le même index dans chacun des vecteurs.\n",
        "\n",
        "La fonction *`print_pretty_grid()`* sert à imprimer la grille en utilisant la première lettre des couleurs pour vous aider à mieux visualiser le problème."
      ]
    },
    {
      "cell_type": "code",
      "metadata": {
        "colab_type": "code",
        "id": "_WHm0lzWP85D",
        "colab": {}
      },
      "source": [
        "class Rushhour:\n",
        "\n",
        "    def __init__(self, horiz, length, move_on, color=None):\n",
        "        self.nbcars = len(horiz)\n",
        "        self.horiz = horiz\n",
        "        self.length = length\n",
        "        self.move_on = move_on\n",
        "        self.color = color\n",
        "\n",
        "        self.free_pos = None\n",
        "\n",
        "    def init_positions(self, state):\n",
        "        self.free_pos = np.ones((6, 6), dtype=bool)\n",
        "        for i in range(self.nbcars):\n",
        "            if self.horiz[i]:\n",
        "                self.free_pos[self.move_on[i], state.pos[i]:state.pos[i]+self.length[i]] = False\n",
        "            else:\n",
        "                self.free_pos[state.pos[i]:state.pos[i]+self.length[i], self.move_on[i]] = False\n",
        "        # TODO\n",
        "        if state.rock is not None:\n",
        "            self.free_pos[state.rock[0], state.rock[1]] = False\n",
        "\n",
        "    def possible_moves(self, state):\n",
        "        self.init_positions(state)\n",
        "        new_states = []\n",
        "        for i in range(self.nbcars):\n",
        "            if self.horiz[i]:\n",
        "                if state.pos[i]+self.length[i]-1 < 5 and self.free_pos[self.move_on[i], state.pos[i]+self.length[i]]:\n",
        "                    new_states.append(state.move(i, +1))\n",
        "                if state.pos[i] > 0 and self.free_pos[self.move_on[i], state.pos[i] - 1]:\n",
        "                    new_states.append(state.move(i, -1))\n",
        "            else:\n",
        "                if state.pos[i]+self.length[i]-1 < 5 and self.free_pos[state.pos[i]+self.length[i], self.move_on[i]]:\n",
        "                    new_states.append(state.move(i, +1))\n",
        "                if state.pos[i] > 0 and self.free_pos[state.pos[i] - 1, self.move_on[i]]:\n",
        "                    new_states.append(state.move(i, -1))\n",
        "        return new_states\n",
        "\n",
        "    def possible_rock_moves(self, state):\n",
        "        self.init_positions(state)\n",
        "        new_states =[]\n",
        "        # TODO\n",
        "        free_pos_coordinates = zip(*np.where(self.free_pos))\n",
        "\n",
        "        for (line, col) in free_pos_coordinates:\n",
        "          is_same_line_or_col = state.rock is not None and (line == state.rock[0] or col == state.rock[1])\n",
        "\n",
        "          if line != 2 and not is_same_line_or_col:\n",
        "              new_states.append(state.put_rock((line,col)))\n",
        "\n",
        "        return new_states\n",
        "\n",
        "\n",
        "    def print_pretty_grid(self, state):\n",
        "        self.init_positions(state)\n",
        "        grid= np.chararray((6, 6))\n",
        "        grid[:]='-'\n",
        "        for car in range(self.nbcars):\n",
        "            for pos in range(state.pos[car], state.pos[car] +self.length[car]):\n",
        "                if self.horiz[car]:\n",
        "                    grid[self.move_on[car]][pos] = self.color[car][0]\n",
        "                else:\n",
        "                    grid[pos][self.move_on[car]] = self.color[car][0]\n",
        "        \n",
        "        if state.rock is not None: # Ajout\n",
        "            grid[state.rock] = 'x'\n",
        "\n",
        "        print(grid)"
      ],
      "execution_count": 0,
      "outputs": []
    },
    {
      "cell_type": "markdown",
      "metadata": {
        "colab_type": "text",
        "id": "QRfV80qNvtc5"
      },
      "source": [
        "### 1.1 Implémentation\n",
        "\n",
        "1. Modifier la classe State pour qu'elle contienne la position de la roche ainsi que la fonction *`put_rock()`* pour ajouter une nouvelle roche et enlever l'ancienne. Les roches sont représentées par un tuple (ligne,colonne). La fonction retourne un nouvel objet State.\n",
        "\n",
        "2. Modifier la fonction *`init_position()`* de la classe Rushhour pour qu'elle tienne compte de l'emplacement des roches.\n",
        "\n",
        "3. Implémenter la fonction *`possible_rock_moves()`* qui permet de trouver tous les coups possibles de l'adversaire (avec la roche) à partir de l'état courant dans la classe Rushhour. L'adversaire ne peut ni mettre de roche sur la ligne 2 ni mettre deux roches consécutives sur la même ligne ou colonne.\n",
        "\n",
        "Utiliser la fonction *testRocks()* pour vérifier que vous avez bien pris en compte les roches. Vous devriez avoir ces résultats:\n",
        "\n",
        "```\n",
        "État initial\n",
        "[[b'-' b'-' b'v' b'j' b'j' b'j']\n",
        " [b'o' b'-' b'v' b'v' b'b' b'b']\n",
        " [b'o' b'r' b'r' b'v' b'-' b'-']\n",
        " [b'-' b'r' b'-' b'v' b'v' b'v']\n",
        " [b'v' b'r' b'n' b'n' b'-' b'b']\n",
        " [b'v' b'b' b'b' b'b' b'-' b'b']]\n",
        "[[ True  True False False False False]\n",
        " [False  True False False False False]\n",
        " [False False False False  True  True]\n",
        " [ True False  True False False False]\n",
        " [False False False False  True False]\n",
        " [False False False False  True False]]\n",
        "\n",
        "\n",
        "Roche 4-4\n",
        "[[b'-' b'-' b'v' b'j' b'j' b'j']\n",
        " [b'o' b'-' b'v' b'v' b'b' b'b']\n",
        " [b'o' b'r' b'r' b'v' b'-' b'-']\n",
        " [b'-' b'r' b'-' b'v' b'v' b'v']\n",
        " [b'v' b'r' b'n' b'n' b'x' b'b']\n",
        " [b'v' b'b' b'b' b'b' b'-' b'b']]\n",
        "[[ True  True False False False False]\n",
        " [False  True False False False False]\n",
        " [False False False False  True  True]\n",
        " [ True False  True False False False]\n",
        " [False False False False False False]\n",
        " [False False False False  True False]]\n",
        "\n",
        "\n",
        "Roche 3-2\n",
        "[[b'-' b'-' b'v' b'j' b'j' b'j']\n",
        " [b'o' b'-' b'v' b'v' b'b' b'b']\n",
        " [b'o' b'r' b'r' b'v' b'-' b'-']\n",
        " [b'-' b'r' b'x' b'v' b'v' b'v']\n",
        " [b'v' b'r' b'n' b'n' b'-' b'b']\n",
        " [b'v' b'b' b'b' b'b' b'-' b'b']]\n",
        "[[ True  True False False False False]\n",
        " [False  True False False False False]\n",
        " [False False False False  True  True]\n",
        " [ True False False False False False]\n",
        " [False False False False False False]\n",
        " [False False False False  True False]]\n",
        "\n",
        "```\n",
        "\n",
        "Utiliser la fonction *testPossibleRockMoves()* pour vérifier que vous trouvez bien tous les coups possibles pour l'adversaire. Vous devriez trouver 7 et 3 mouvements possibles."
      ]
    },
    {
      "cell_type": "code",
      "metadata": {
        "colab_type": "code",
        "id": "ToANaR6HHA9g",
        "outputId": "07b3090b-cd7f-4972-d76a-be5221b365db",
        "colab": {
          "base_uri": "https://localhost:8080/",
          "height": 788
        }
      },
      "source": [
        "def testRocks():\n",
        "    rh = Rushhour([True, False, True, False, False, True, False, True, False, True, False, True],\n",
        "                 [2, 2, 3, 2, 3, 2, 2, 2, 2, 2, 2, 3],\n",
        "                 [2, 2, 0, 0, 3, 1, 1, 3, 0, 4, 5, 5],\n",
        "                 [\"rouge\", \"vert clair\", \"jaune\", \"orange\", \"violet clair\", \"bleu ciel\", \"rose\", \"violet\", \"vert\", \"noir\", \"beige\", \"bleu\"])\n",
        "    s0 = State([1, 0, 3, 1, 1, 4, 3, 4, 4, 2, 4, 1])\n",
        "    \n",
        "    s1= s0.put_rock((4,4))\n",
        "    s2 = s1.put_rock((3,2)) \n",
        "    \n",
        "    print(\"État initial\")\n",
        "    rh.print_pretty_grid(s0)\n",
        "    print(rh.free_pos)\n",
        "    print('\\n')\n",
        "    \n",
        "    print(\"Roche 4-4\")\n",
        "    rh.print_pretty_grid(s1)\n",
        "    print(rh.free_pos)\n",
        "    print('\\n')\n",
        "    \n",
        "    print(\"Roche 3-2\")\n",
        "    rh.print_pretty_grid(s2)\n",
        "    print(rh.free_pos)\n",
        "    print('\\n')\n",
        "\n",
        "testRocks()"
      ],
      "execution_count": 0,
      "outputs": [
        {
          "output_type": "stream",
          "text": [
            "État initial\n",
            "[[b'-' b'-' b'v' b'j' b'j' b'j']\n",
            " [b'o' b'-' b'v' b'v' b'b' b'b']\n",
            " [b'o' b'r' b'r' b'v' b'-' b'-']\n",
            " [b'-' b'r' b'-' b'v' b'v' b'v']\n",
            " [b'v' b'r' b'n' b'n' b'-' b'b']\n",
            " [b'v' b'b' b'b' b'b' b'-' b'b']]\n",
            "[[ True  True False False False False]\n",
            " [False  True False False False False]\n",
            " [False False False False  True  True]\n",
            " [ True False  True False False False]\n",
            " [False False False False  True False]\n",
            " [False False False False  True False]]\n",
            "\n",
            "\n",
            "Roche 4-4\n",
            "[[b'-' b'-' b'v' b'j' b'j' b'j']\n",
            " [b'o' b'-' b'v' b'v' b'b' b'b']\n",
            " [b'o' b'r' b'r' b'v' b'-' b'-']\n",
            " [b'-' b'r' b'-' b'v' b'v' b'v']\n",
            " [b'v' b'r' b'n' b'n' b'x' b'b']\n",
            " [b'v' b'b' b'b' b'b' b'-' b'b']]\n",
            "[[ True  True False False False False]\n",
            " [False  True False False False False]\n",
            " [False False False False  True  True]\n",
            " [ True False  True False False False]\n",
            " [False False False False False False]\n",
            " [False False False False  True False]]\n",
            "\n",
            "\n",
            "Roche 3-2\n",
            "[[b'-' b'-' b'v' b'j' b'j' b'j']\n",
            " [b'o' b'-' b'v' b'v' b'b' b'b']\n",
            " [b'o' b'r' b'r' b'v' b'-' b'-']\n",
            " [b'-' b'r' b'x' b'v' b'v' b'v']\n",
            " [b'v' b'r' b'n' b'n' b'-' b'b']\n",
            " [b'v' b'b' b'b' b'b' b'-' b'b']]\n",
            "[[ True  True False False False False]\n",
            " [False  True False False False False]\n",
            " [False False False False  True  True]\n",
            " [ True False False False False False]\n",
            " [False False False False  True False]\n",
            " [False False False False  True False]]\n",
            "\n",
            "\n"
          ],
          "name": "stdout"
        }
      ]
    },
    {
      "cell_type": "code",
      "metadata": {
        "colab_type": "code",
        "id": "GF8NzfOSHA9n",
        "outputId": "74179260-6b70-4b7d-b12f-bb9a28df7fa0",
        "colab": {
          "base_uri": "https://localhost:8080/",
          "height": 51
        }
      },
      "source": [
        "def testPossibleRockMoves():\n",
        "    rh = Rushhour([True, False, True, False, False, True, False, True, False, True, False, True],\n",
        "                 [2, 2, 3, 2, 3, 2, 2, 2, 2, 2, 2, 3],\n",
        "                 [2, 2, 0, 0, 3, 1, 1, 3, 0, 4, 5, 5],\n",
        "                 [\"rouge\", \"vert clair\", \"jaune\", \"orange\", \"violet clair\", \"bleu ciel\", \"rose\", \"violet\", \"vert\", \"noir\", \"beige\", \"bleu\"])\n",
        "    s = State([1, 0, 3, 1, 1, 4, 3, 4, 4, 2, 4, 1])\n",
        "    sols = rh.possible_rock_moves(s)\n",
        "    print(len(sols))\n",
        "    s1 = s.put_rock((3,4))\n",
        "    sols = rh.possible_rock_moves(s1)\n",
        "    print(len(sols))\n",
        "\n",
        "testPossibleRockMoves()\n",
        "  "
      ],
      "execution_count": 0,
      "outputs": [
        {
          "output_type": "stream",
          "text": [
            "7\n",
            "3\n"
          ],
          "name": "stdout"
        }
      ]
    },
    {
      "cell_type": "markdown",
      "metadata": {
        "colab_type": "text",
        "id": "DtuQfocVGRt9"
      },
      "source": [
        "## 2. Implémentation d'une recherche minimax (35pts)\n",
        "L'algorithme minimax est l'implémentation la plus commune pour résoudre un jeu adversarielle avec des mouvements limités définis. Cet algorithme est basé sur le principe de construire un arbre avec les différents états possibles selon les actions de chaque joueur (AI et adversaire). L'algorithme veut maximiser les étages où le AI joue et minimiser les étages où l'adversaire joue. Dans ce cas-ci, l'AI déplace les voitures et l'adversaire place les roches. Dans le cadre du TP, l'algorithme n'explore pas jusqu'aux feuilles de l'arbre. Il s'arrête à une profondeur donnée.\n",
        "\n",
        "La résolution du problème est faite par la classe **MiniMaxSearch** qui contient les champs suivants:\n",
        "\n",
        "- `rushhour`: la classe Rushhour qui contient les informations sur la grille;\n",
        "- `state`: la classe State avec l'état actuel de la grille;\n",
        "- `search_depth`: la profondeur maximale d'exploration de l'algorithme;\n"
      ]
    },
    {
      "cell_type": "code",
      "metadata": {
        "colab_type": "code",
        "id": "cgpBbNZJ9RXk",
        "colab": {}
      },
      "source": [
        "class MiniMaxSearch:\n",
        "    def __init__(self, rushHour, initial_state, search_depth):\n",
        "        self.rushhour = rushHour\n",
        "        self.state = initial_state\n",
        "        self.search_depth = search_depth        \n",
        "\n",
        "    def minimax_1(self, current_depth, current_state): \n",
        "        #TODO\n",
        "        if current_depth == self.search_depth:\n",
        "          return current_state\n",
        "\n",
        "        possible_moves = self.rushhour.possible_moves(current_state)\n",
        "        best_moves = [self.minimax_1(current_depth+1, move) for move in possible_moves]\n",
        "\n",
        "        for move in best_moves:\n",
        "          move.score_state(self.rushhour)\n",
        "\n",
        "        best_move_scores = [move.score for move in best_moves]\n",
        "\n",
        "        # return the move with the max value in best_move_scores\n",
        "\n",
        "        return best_moves\n",
        "    \n",
        "    def minimax_2(self, current_depth, current_state, is_max): \n",
        "        #TODO\n",
        "        return best_move\n",
        "\n",
        "    def minimax_pruning(self, current_depth, current_state, is_max, alpha, beta):\n",
        "        #TODO\n",
        "        return best_move\n",
        "\n",
        "    def expectimax(self, current_depth, current_state, is_max):\n",
        "        #TODO\n",
        "        return best_move\n",
        "\n",
        "    def decide_best_move_1(self):\n",
        "        #TODO\n",
        "        pass\n",
        "\n",
        "    def decide_best_move_2(self, is_max):\n",
        "        #TODO\n",
        "        pass\n",
        "\n",
        "    def decide_best_move_pruning(self, is_max):\n",
        "        # TODO\n",
        "        pass\n",
        "\n",
        "    def decide_best_move_expectimax(self, is_max):\n",
        "        # TODO\n",
        "        pass\n",
        "\n",
        "    def solve(self, state, is_singleplayer):\n",
        "        #TODO\n",
        "        pass\n",
        "\n",
        "    def print_move(self, is_max, state):\n",
        "        #TODO\n",
        "        if is_max:\n",
        "          self.print_move_player(state)\n",
        "        else:\n",
        "          print(\"%i. Roche dans la case (%i,%i).\", (int(state.nb_moves), state.rock[0], state.rock[1]))\n",
        "\n",
        "    def print_move_player(self, state):\n",
        "        direction_labels = [[\"la droite\", \"la gauche\"], [\"le bas\", \"le haut\"]]\n",
        "  \n",
        "        direction = 0 if state.d == 1 else 1 # Converts state.d from -1 to 1 (go up or go left) and from 1 to 0 (go down or go right)\n",
        "        direction_label = direction_labels[0][direction] if self.rushhour.horiz[state.c] else direction_labels[1][direction]\n",
        "\n",
        "        print(\"%i. Voiture %s vers %s\" % (int(state.nb_moves), self.rushhour.color[state.c], direction_label))"
      ],
      "execution_count": 0,
      "outputs": []
    },
    {
      "cell_type": "markdown",
      "metadata": {
        "colab_type": "text",
        "id": "MBZ20EFAFZd2"
      },
      "source": [
        "### 2.1 Implémentation simple\n",
        "1. Implémenter la fonction *`score_state()`* de la classe **State**. Elle affecte la valeur de l'état à son paramètre score. L'état n'est pas nécessairement final. Utiliser l'heuristique qui vous semble la plus pertinente.\n",
        "\n",
        "2. Implémenter la fonction  *`minimax_1()`*. Cette fonction contient la logique de l'algorithme minimax pour un seul joueur et retourne le meilleur coup à prendre à partir de l'état courant.\n",
        "\n",
        "3. Implémenter la fonction *`decide_best_move_1()`*. Cette fonction trouve et exécute le meilleur coup pour une partie à un joueur.\n",
        "\n",
        "4. Implémenter la fonction *`solve()`*. Cette fonction résout un problème de Rush Hour avec le nombre minimal de coups.\n",
        "\n",
        "4. Implémenter la fonction *`print_move()`* pour imprimer le coup fait. Ex. \"Voiture orange vers le haut\" ou \"Roche dans la case 2-1\".\n",
        "\n",
        "**N.B**: Vous pouvez modifier les déclarations des fonctions ainsi qu'ajouter des fonctions tant que l'algorithme fonctionne."
      ]
    },
    {
      "cell_type": "markdown",
      "metadata": {
        "colab_type": "text",
        "id": "HDiX7F2H_Myo"
      },
      "source": [
        "Utiliser la fonction _test_print_move()_ pour vérifier votre implémentation de _print_move()_. "
      ]
    },
    {
      "cell_type": "code",
      "metadata": {
        "colab_type": "code",
        "id": "bDERS5LnHA9y",
        "colab": {}
      },
      "source": [
        "def test_print_move():\n",
        "    rh = Rushhour([True], [2], [2], [\"rouge\"])\n",
        "    s = State([0])\n",
        "    s = s.put_rock((3,1)) # Roche dans la case 3-1\n",
        "    s = s.move(0, 1) # Voiture rouge vers la droite\n",
        "\n",
        "    algo = MiniMaxSearch(rh, s, 1)\n",
        "    algo.print_move(True, s)\n",
        "    algo.print_move(False, s)\n",
        "\n",
        "test_print_move()"
      ],
      "execution_count": 0,
      "outputs": []
    },
    {
      "cell_type": "markdown",
      "metadata": {
        "colab_type": "text",
        "id": "G5ylHFXr_oCy"
      },
      "source": [
        "Pour vous aider dans l'implémentation de votre heuristique, 3 exemples de problèmes de Rush Hour sont fournis."
      ]
    },
    {
      "cell_type": "code",
      "metadata": {
        "colab_type": "code",
        "id": "PD2AonsbHA93",
        "colab": {}
      },
      "source": [
        "# Solution optimale: 9 moves\n",
        "rh = Rushhour([True, False, False, False, True],\n",
        "                 [2, 3, 2, 3, 3],\n",
        "                 [2, 4, 5, 1, 5],\n",
        "                 [\"rouge\", \"vert\", \"bleu\", \"orange\", \"jaune\"])\n",
        "s = State([1, 0, 1, 3, 2])\n",
        "algo = MiniMaxSearch(rh, s,1) \n",
        "algo.rushhour.init_positions(s)\n",
        "print(algo.rushhour.free_pos)\n",
        "algo.solve(s, True)\n",
        "%time"
      ],
      "execution_count": 0,
      "outputs": []
    },
    {
      "cell_type": "code",
      "metadata": {
        "colab_type": "code",
        "id": "ZA6QLf7e00qL",
        "colab": {}
      },
      "source": [
        "# solution optimale: 16 moves\n",
        "rh = Rushhour([True, True, False, False, True, True, False, False],\n",
        "                 [2, 2, 3, 2, 3, 2, 3, 3],\n",
        "                 [2, 0, 0, 0, 5, 4, 5, 3],\n",
        "                 [\"rouge\", \"vert\", \"mauve\", \"orange\", \"emeraude\", \"lime\", \"jaune\", \"bleu\"])\n",
        "s = State([1, 0, 1, 4, 2, 4, 0, 1])\n",
        "algo = MiniMaxSearch(rh, s, 1) \n",
        "algo.rushhour.init_positions(s)\n",
        "print(algo.rushhour.free_pos)\n",
        "algo.solve(s, True) \n",
        "%time"
      ],
      "execution_count": 0,
      "outputs": []
    },
    {
      "cell_type": "code",
      "metadata": {
        "colab_type": "code",
        "id": "pjHuR4qVoPG-",
        "colab": {}
      },
      "source": [
        "# solution optimale: 14 moves\n",
        "rh = Rushhour([True, False, True, False, False, False, True, True, False, True, True],\n",
        "                 [2, 2, 3, 2, 2, 3, 3, 2, 2, 2, 2],\n",
        "                 [2, 0, 0, 3, 4, 5, 3, 5, 2, 5, 4],\n",
        "                 [\"rouge\", \"1\", \"2\", \"3\", \"4\", \"5\", \"6\", \"7\", \"8\", \"9\", \"10\"])\n",
        "s = State([0, 0, 3, 1, 2, 1, 0, 0, 4, 3, 4])\n",
        "algo = MiniMaxSearch(rh, s,1)\n",
        "algo.rushhour.init_positions(s)\n",
        "print(algo.rushhour.free_pos)\n",
        "algo.solve(s, True)\n",
        "%time"
      ],
      "execution_count": 0,
      "outputs": []
    },
    {
      "cell_type": "markdown",
      "metadata": {
        "colab_type": "text",
        "id": "IVQelA7AT7DJ"
      },
      "source": [
        "### 2.2 Implémentation adversarielle\n",
        "\n",
        "1. Implémenter la fonction  *`minimax_2()`*. Cette fonction contient la logique de l'algorithme minimax pour deux joueurs et retourne le meilleur coup à prendre à partir de l'état courant.\n",
        "\n",
        "2. Implémenter la fonction *`decide_best_move_2()`*. Cette fonction trouve et exécute le meilleur coup pour une partie à deux joueurs.\n",
        "\n",
        "3. Modifier la fonction *`solve()`* pour qu'elle puisse résoudre des problèmes à deux joueurs.\n",
        "\n",
        "4. Modifier la fonction *`score_state()`* de la classe **State** si elle ne tient pas déjà compte des roches.\n",
        "\n",
        "**N.B**: Vous pouvez modifier les déclarations des fonctions ainsi qu'ajouter des fonctions tant que l'algorithme fonctionne."
      ]
    },
    {
      "cell_type": "markdown",
      "metadata": {
        "colab_type": "text",
        "id": "3bz7uBOD3vy6"
      },
      "source": [
        " Le nombre donné de coups pour les 3 exemples suivants correspond à une partie sans adversaire. Le nombre de coups de plus dépend de l'implémentation de votre heuristique."
      ]
    },
    {
      "cell_type": "code",
      "metadata": {
        "colab_type": "code",
        "id": "6eB8c_RBbm6Y",
        "colab": {}
      },
      "source": [
        "# Solution optimale: 9 moves\n",
        "rh = Rushhour([True, False, False, False, True],\n",
        "                 [2, 3, 2, 3, 3],\n",
        "                 [2, 4, 5, 1, 5],\n",
        "                 [\"rouge\", \"vert\", \"bleu\", \"orange\", \"jaune\"])\n",
        "s = State([1, 0, 1, 3, 2])\n",
        "algo = MiniMaxSearch(rh, s,3)\n",
        "algo.rushhour.init_positions(s)\n",
        "print(algo.rushhour.free_pos)\n",
        "algo.solve(s, False)\n",
        "%time"
      ],
      "execution_count": 0,
      "outputs": []
    },
    {
      "cell_type": "code",
      "metadata": {
        "colab_type": "code",
        "id": "y1pxpHd9vpVG",
        "colab": {}
      },
      "source": [
        "# solution optimale: 16 moves\n",
        "rh = Rushhour([True, True, False, False, True, True, False, False],\n",
        "                 [2, 2, 3, 2, 3, 2, 3, 3],\n",
        "                 [2, 0, 0, 0, 5, 4, 5, 3],\n",
        "                 [\"rouge\", \"vert\", \"mauve\", \"orange\", \"emeraude\", \"lime\", \"jaune\", \"bleu\"])\n",
        "s = State([1, 0, 1, 4, 2, 4, 0, 1])\n",
        "algo = MiniMaxSearch(rh, s, 3) \n",
        "algo.rushhour.init_positions(s)\n",
        "print(algo.rushhour.free_pos)\n",
        "algo.solve(s, False) \n",
        "%time"
      ],
      "execution_count": 0,
      "outputs": []
    },
    {
      "cell_type": "code",
      "metadata": {
        "colab_type": "code",
        "id": "Rvk3yZTIHA97",
        "colab": {}
      },
      "source": [
        "# solution optimale: 14 moves\n",
        "rh = Rushhour([True, False, True, False, False, False, True, True, False, True, True],\n",
        "                 [2, 2, 3, 2, 2, 3, 3, 2, 2, 2, 2],\n",
        "                 [2, 0, 0, 3, 4, 5, 3, 5, 2, 5, 4],\n",
        "                 [\"rouge\", \"1\", \"2\", \"3\", \"4\", \"5\", \"6\", \"7\", \"8\", \"9\", \"10\"])\n",
        "s = State([0, 0, 3, 1, 2, 1, 0, 0, 4, 3, 4])\n",
        "algo = MiniMaxSearch(rh, s,3)\n",
        "algo.rushhour.init_positions(s)\n",
        "print(algo.rushhour.free_pos)\n",
        "algo.solve(s, False)\n",
        "%time"
      ],
      "execution_count": 0,
      "outputs": []
    },
    {
      "cell_type": "markdown",
      "metadata": {
        "colab_type": "text",
        "id": "8tAIwtpYoHd7"
      },
      "source": [
        "## 3. Élagage Alpha-Beta (15pts)\n",
        "Pour accélérer la prise de décision, un élagage est effectué sur l'arbre. Cela permet de ne pas parcourir tout l'arbre. L'élagage alpha-beta est l'implémentation la plus fréquente pour résoudre ce genre de problème. En passant des valeurs d’alpha et de bêta récursivement, l'algorithme connaît la meilleure valeur trouvée à date. Les branches jugées non intéressantes, c'est-à-dire qu'elles ne peuvent pas produire un meilleur résultat que celui déjà trouvé, sont coupées dans le processus."
      ]
    },
    {
      "cell_type": "markdown",
      "metadata": {
        "colab_type": "text",
        "id": "SnTJtLzxB8MY"
      },
      "source": [
        " \n",
        "### 3.1 Implémentation\n",
        "\n",
        "1. Implémenter la fonction *`minimax_pruning()`* pour qu'elle n'explore pas des branches inutiles lors d'une partie à deux joueurs.\n",
        "2. Implémenter la fonction *`decide_best_move_pruning()`*. Cette fonction trouve et exécute le meilleur coup pour une partie à deux joueurs.\n",
        "3. Modifier la fonction *`solve()`* pour qu'elle utilise cette nouvelle méthode.\n",
        "4. Vérifier que cette nouvelle méthode visite bel et bien moins de noeuds. **Montrer cette information dans un tableau**."
      ]
    },
    {
      "cell_type": "code",
      "metadata": {
        "colab_type": "code",
        "id": "mpfvMGn3X_w_",
        "colab": {}
      },
      "source": [
        "# solution optimale: 9 moves\n",
        "rh = Rushhour([True, False, False, False, True],\n",
        "                 [2, 3, 2, 3, 3],\n",
        "                 [2, 4, 5, 1, 5],\n",
        "                 [\"rouge\", \"vert\", \"bleu\", \"orange\", \"jaune\"])\n",
        "s = State([1, 0, 1, 3, 2])\n",
        "algo = MiniMaxSearch(rh, s,3)\n",
        "algo.rushhour.init_positions(s)\n",
        "print(algo.rushhour.free_pos)\n",
        "algo.solve(s, False)\n",
        "%time"
      ],
      "execution_count": 0,
      "outputs": []
    },
    {
      "cell_type": "code",
      "metadata": {
        "colab_type": "code",
        "id": "r9ab7s9GX6G3",
        "colab": {}
      },
      "source": [
        "# solution optimale: 16 moves\n",
        "rh = Rushhour([True, True, False, False, True, True, False, False],\n",
        "                 [2, 2, 3, 2, 3, 2, 3, 3],\n",
        "                 [2, 0, 0, 0, 5, 4, 5, 3],\n",
        "                 [\"rouge\", \"vert\", \"mauve\", \"orange\", \"emeraude\", \"lime\", \"jaune\", \"bleu\"])\n",
        "s = State([1, 0, 1, 4, 2, 4, 0, 1])\n",
        "algo = MiniMaxSearch(rh, s, 3) \n",
        "algo.rushhour.init_positions(s)\n",
        "print(algo.rushhour.free_pos)\n",
        "algo.solve(s, False) \n",
        "%time"
      ],
      "execution_count": 0,
      "outputs": []
    },
    {
      "cell_type": "code",
      "metadata": {
        "colab_type": "code",
        "id": "wu1vhGYeYDT5",
        "colab": {}
      },
      "source": [
        "# solution optimale: 14 moves\n",
        "rh = Rushhour([True, False, True, False, False, False, True, True, False, True, True],\n",
        "                 [2, 2, 3, 2, 2, 3, 3, 2, 2, 2, 2],\n",
        "                 [2, 0, 0, 3, 4, 5, 3, 5, 2, 5, 4],\n",
        "                 [\"rouge\", \"1\", \"2\", \"3\", \"4\", \"5\", \"6\", \"7\", \"8\", \"9\", \"10\"])\n",
        "s = State([0, 0, 3, 1, 2, 1, 0, 0, 4, 3, 4])\n",
        "algo = MiniMaxSearch(rh, s,3)\n",
        "algo.rushhour.init_positions(s)\n",
        "print(algo.rushhour.free_pos)\n",
        "algo.solve(s, False)\n",
        "%time"
      ],
      "execution_count": 0,
      "outputs": []
    },
    {
      "cell_type": "markdown",
      "metadata": {
        "colab_type": "text",
        "id": "uF2ognpkyIbp"
      },
      "source": [
        "## 4. Expectimax (15 pts)\n",
        "L'expectimax est une variante de la recherche minimax. Elle est utilisée lorsqu'il y a une composante de hasard lors de la prise de décision. Depuis le début du TP, il a été supposé que l'adversaire prenait toujours le coup optimal. Maintenant, l'adversaire va faire un coup aléatoirement. Pour résoudre ce cas-là, la recherche expectimax sera utilisée."
      ]
    },
    {
      "cell_type": "markdown",
      "metadata": {
        "colab_type": "text",
        "id": "0mTWfrodxGBb"
      },
      "source": [
        "### 4.1 Implémentation \n",
        "\n",
        "1. Implémenter la fonction *`minimax_expectimax()`* pour qu'elle implémente l'algorithme de recherche. Considérer une probabilité égale pour tous les coups.\n",
        "2. Implémenter la fonction *`decide_best_move_expectimax()`*. Cette fonction trouve et exécute le meilleur coup pour une partie avec un adversaire imprévisible.\n",
        "3. Modifier la fonction *`solve()`* pour qu'elle utilise cette nouvelle méthode.\n",
        "4. Modifier les valeurs de probabilités associées aux coups pour donner une vision optimiste et une vision pessimiste à l'AI. Comparer la performance du AI entre les 3 visions (aléatoire, optimiste, pessimiste). Attention l'adversaire continue à prendre ses décisions au hasard. **Montrer ces informations dans un tableau et les analyser**. "
      ]
    },
    {
      "cell_type": "code",
      "metadata": {
        "colab_type": "code",
        "id": "1kD0Edhk4N8g",
        "colab": {}
      },
      "source": [
        "# solution optimale: 9 moves\n",
        "rh = Rushhour([True, False, False, False, True],\n",
        "                 [2, 3, 2, 3, 3],\n",
        "                 [2, 4, 5, 1, 5],\n",
        "                 [\"rouge\", \"vert\", \"bleu\", \"orange\", \"jaune\"])\n",
        "s = State([1, 0, 1, 3, 2])\n",
        "algo = MiniMaxSearch(rh, s,3)\n",
        "algo.rushhour.init_positions(s)\n",
        "print(algo.rushhour.free_pos)\n",
        "algo.solve(s, False)\n",
        "%time"
      ],
      "execution_count": 0,
      "outputs": []
    },
    {
      "cell_type": "code",
      "metadata": {
        "colab_type": "code",
        "id": "XNnBrkBE4N8n",
        "colab": {}
      },
      "source": [
        "# solution optimale: 16 moves\n",
        "rh = Rushhour([True, True, False, False, True, True, False, False],\n",
        "                 [2, 2, 3, 2, 3, 2, 3, 3],\n",
        "                 [2, 0, 0, 0, 5, 4, 5, 3],\n",
        "                 [\"rouge\", \"vert\", \"mauve\", \"orange\", \"emeraude\", \"lime\", \"jaune\", \"bleu\"])\n",
        "s = State([1, 0, 1, 4, 2, 4, 0, 1])\n",
        "algo = MiniMaxSearch(rh, s, 3) \n",
        "algo.rushhour.init_positions(s)\n",
        "print(algo.rushhour.free_pos)\n",
        "algo.solve(s, False) \n",
        "%time"
      ],
      "execution_count": 0,
      "outputs": []
    },
    {
      "cell_type": "code",
      "metadata": {
        "colab_type": "code",
        "id": "4kw769RW4N8q",
        "colab": {}
      },
      "source": [
        "# solution optimale: 14 moves\n",
        "rh = Rushhour([True, False, True, False, False, False, True, True, False, True, True],\n",
        "                 [2, 2, 3, 2, 2, 3, 3, 2, 2, 2, 2],\n",
        "                 [2, 0, 0, 3, 4, 5, 3, 5, 2, 5, 4],\n",
        "                 [\"rouge\", \"1\", \"2\", \"3\", \"4\", \"5\", \"6\", \"7\", \"8\", \"9\", \"10\"])\n",
        "s = State([0, 0, 3, 1, 2, 1, 0, 0, 4, 3, 4])\n",
        "algo = MiniMaxSearch(rh, s,3)\n",
        "algo.rushhour.init_positions(s)\n",
        "print(algo.rushhour.free_pos)\n",
        "algo.solve(s, False)\n",
        "%time"
      ],
      "execution_count": 0,
      "outputs": []
    },
    {
      "cell_type": "markdown",
      "metadata": {
        "colab_type": "text",
        "id": "ztKmG34HmLF9"
      },
      "source": [
        "## 5. Comparaison (10pts)\n",
        "Comparez la performance la recherche minimax avec la recherche expectimax lorsque l'adversaire est optimale et lorsque l'adversaire est aléatoire. Pour un adversaire aléatoire, prenez une vision neutre. Roulez plusieurs fois les algorithmes (vous pouvez aussi reprendre les tests du TP1) et notez si c'est une victoire ou une défaire pour l'AI ainsi que le nombre de coups moyen, minimal et maximal. Basez-vous sur le nombre de coups optimaux pour résoudre les problèmes pour déterminer un seuil de victoire et de défaite pour l'AI. Précisez votre seuil. **Mettez le tout dans un tableau et analysez vos résultats**. "
      ]
    }
  ]
}