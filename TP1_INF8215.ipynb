{
  "nbformat": 4,
  "nbformat_minor": 0,
  "metadata": {
    "kernelspec": {
      "display_name": "Python 3",
      "language": "python",
      "name": "python3"
    },
    "language_info": {
      "codemirror_mode": {
        "name": "ipython",
        "version": 3
      },
      "file_extension": ".py",
      "mimetype": "text/x-python",
      "name": "python",
      "nbconvert_exporter": "python",
      "pygments_lexer": "ipython3",
      "version": "3.7.3"
    },
    "colab": {
      "name": "TP1_INF8215.ipynb",
      "provenance": [],
      "collapsed_sections": [],
      "include_colab_link": true
    }
  },
  "cells": [
    {
      "cell_type": "markdown",
      "metadata": {
        "id": "view-in-github",
        "colab_type": "text"
      },
      "source": [
        "<a href=\"https://colab.research.google.com/github/conorato/INF8215/blob/master/TP1_INF8215.ipynb\" target=\"_parent\"><img src=\"https://colab.research.google.com/assets/colab-badge.svg\" alt=\"Open In Colab\"/></a>"
      ]
    },
    {
      "cell_type": "markdown",
      "metadata": {
        "id": "XV7IjxNNN1Fp",
        "colab_type": "text"
      },
      "source": [
        "# INF8215 - Intelligence artif.: méthodes et algorithmes \n",
        "## Automne 2019 - TP1 - Méthodes de recherche \n",
        "### Membres de l'équipe\n",
        "    - William Harvey (1851388) 1\n",
        "    - Claudia Onorato (1845448) 2\n",
        "    - Mathieu Bélanger (1850591) 3\n",
        "\n",
        "\n"
      ]
    },
    {
      "cell_type": "markdown",
      "metadata": {
        "id": "w7eYiNGxN1Fr",
        "colab_type": "text"
      },
      "source": [
        "## Rush Hour\n",
        "\n",
        "*RushHour* est un jeu dont le but est de libérer une voiture d'un parking. Les voitures bougent dans une grille 6x6 verticalement ou horizontalement. Chaque voiture occupe 2 ou 3 cases. Les voitures ne peuvent quitter le parking, à l'exception de la voiture rouge. Le but du jeu est donc de faire sortir la voiture rouge. L'image qui suit donne un exemple d'une configuration initiale.\n",
        "\n",
        "![Rushhour](https://i.stack.imgur.com/NzztF.jpg)\n",
        "\n",
        "L'objectif de ce TP est d'écrire un programme qui trouve la solution de ce problème en un **minimum de mouvements**. Si vous voulez vous familiariser avec ce jeu, vous pouvez [jouer sur ce site](http://www.thinkfun.com/mathcounts/play-rush-hour). Il faut autoriser l'utilisation de Flash pour accéder au jeu.\n",
        "\n",
        "Pour le TP, il faudra compléter les deux classes fournies en Python. Vous pouvez réimplémenter ces classes-là et faire le TP dans un autre langage si vous le désirez.\n",
        "\n",
        "## 1. Représentation du problème (15pts)\n",
        "\n",
        "Le problème est représenter selon les règles suivantes. Les six colonnes sont numérotées de gauche à droite de 0 à 5 et les 6 lignes sont numérotées de haut en bas, de 0 à 5 aussi.  **Par convention la voiture rouge a pour index 0 et est de longueur 2. La sortie du parking est comme sur la figure et se trouve donc vis-à-vis la case 5-2**. La voiture rouge est considérée à l'extérieur lorsqu'une partie de la voiture est hors de la grille.\n",
        "\n",
        "L'état du parking au début et à tout moment du jeu est représenté par un objet de la classe **State** qui contient les champs suivants : \n",
        "\n",
        "- `pos`: un vecteur indiquant la position de chaque véhicule sur la grille (la valeur représente lapremière case occupée par la voiture selon l'orientation de la voiture);\n",
        "- `c`: l'index de la voiture deplacée pour atteindre l'état courant à partir de l'état précédent;\n",
        "-`d`: la direction du déplacement fait à partir de l'état précédent pour atteindre l'état courant (+1: vers la droite ou vers le bas, -1: vers la gauche ou vers le haut);\n",
        "-`prev`: l'état précédent\n"
      ]
    },
    {
      "cell_type": "code",
      "metadata": {
        "id": "JcznvFStN1Fs",
        "colab_type": "code",
        "colab": {}
      },
      "source": [
        "import numpy as np\n",
        "import math\n",
        "import copy\n",
        "\n",
        "# Nb columns and nb lines are the same\n",
        "NB_SQUARES = 6\n",
        "\n",
        "class State:\n",
        "    \n",
        "    \"\"\"\n",
        "    Contructeur d'un état initial\n",
        "    \"\"\"\n",
        "    def __init__(self, pos):\n",
        "        \"\"\"\n",
        "        pos donne la position de la voiture i (première case occupée par la voiture);\n",
        "\n",
        "        Où la première case correspond à la case ayant le plus petit index\n",
        "        (et non au devant/derrière de l'auto)\n",
        "        \"\"\"\n",
        "        self.pos = np.array(pos)\n",
        "        \n",
        "        \"\"\"\n",
        "        c, d et prev premettent de retracer l'état précédent et le dernier mouvement effectué\n",
        "        \"\"\"\n",
        "        self.c = self.d = self.prev = None\n",
        "        \n",
        "        self.nb_moves = 0\n",
        "        self.h = 0\n",
        "\n",
        "    \"\"\"\n",
        "    Constructeur d'un état à partir mouvement (c,d)\n",
        "    Où c: index de la voiture à déplacer\n",
        "       d: direction du mouvement (+1 pour la droite/bas, -1 pour la gauche/haut)\n",
        "    \"\"\"\n",
        "    def move(self, c, d):\n",
        "        # TODO\n",
        "        next_position = np.array(self.pos)\n",
        "        next_position[c] += d\n",
        "  \n",
        "        nextState = State(next_position)\n",
        "        nextState.prev = self\n",
        "        nextState.c = c\n",
        "        nextState.d = d\n",
        "        nextState.nb_moves = self.nb_moves + 1\n",
        "        return nextState\n",
        "\n",
        "\n",
        "    \"\"\" est il final? \"\"\"\n",
        "    def success(self):\n",
        "        # TODO\n",
        "        return self.pos[0] == NB_SQUARES - 2\n",
        "    \n",
        "\n",
        "    \"\"\"\n",
        "    Estimation du nombre de coup restants \n",
        "    \"\"\"\n",
        "    def estimee1(self):\n",
        "        # TODO\n",
        "        return 0\n",
        "\n",
        "    def estimee2(self, rh):\n",
        "        # TODO\n",
        "        return 0\n",
        "    \n",
        "    def __eq__(self, other):\n",
        "        if not isinstance(other, State):\n",
        "            return NotImplemented\n",
        "        if len(self.pos) != len(other.pos):\n",
        "            print(\"les états n'ont pas le même nombre de voitures\")\n",
        "        \n",
        "        return np.array_equal(self.pos, other.pos)\n",
        "        \n",
        "    def __hash__(self):\n",
        "        h = 0\n",
        "        for i in range(len(self.pos)):\n",
        "            h = 37*h + self.pos[i]\n",
        "        return int(h)\n",
        "    \n",
        "    def __lt__(self, other):\n",
        "        return (self.nb_moves + self.h) < (other.nb_moves + other.h)"
      ],
      "execution_count": 0,
      "outputs": []
    },
    {
      "cell_type": "markdown",
      "metadata": {
        "id": "Vl9FfbeYN1Fz",
        "colab_type": "text"
      },
      "source": [
        "#### Implémentation \n",
        "   - Complétez la méthode ***success*** de la classe **State** qui indique si un état est final. Cette méthode vérifie si la voiture rouge peut sortir le prochain coup.\n",
        "\n",
        "   - Complétez la fonction ***move*** en déplaçant la voiture c de 1 case dans la bonne direction (d=+1 ou -1). Nous supposons que le déplacement est possible lorsque la fonction est appelée. **Attention** : Cette fonction doit créer un nouvel objet State et définir les variables prev, c et d.\n",
        "   \n",
        "Vous pouvez tester votre code avec la fonction ***test1()*** dans la cellule suivante. Assurez-vous d'avoir déjà roulé la cellule avec la définition de la classe **State** avant. Vous devriez obtenir les résultats suivants:\n",
        "```\n",
        "True\n",
        "True\n",
        "0 1\n",
        "True\n",
        "True\n",
        "```"
      ]
    },
    {
      "cell_type": "code",
      "metadata": {
        "id": "-3LtP6cDN1F0",
        "colab_type": "code",
        "outputId": "31c7b274-52eb-4b10-ec74-0a4327cba801",
        "colab": {
          "base_uri": "https://localhost:8080/",
          "height": 139
        }
      },
      "source": [
        "def test1():\n",
        "    positioning = [1, 0, 1, 4, 2, 4, 0, 1]\n",
        "    s0 = State(positioning)\n",
        "    b = not s0.success()\n",
        "    print(b)\n",
        "    s = s0.move(1,1)\n",
        "    print(s.prev == s0)\n",
        "    b = b and s.prev == s0\n",
        "    print(s0.pos[1], \" \", s.pos[1])\n",
        "    s = s.move(6,1)\n",
        "    s = s.move(1,-1)\n",
        "    s = s.move(6,-1)\n",
        "    print(s == s0)\n",
        "    b = b and s == s0\n",
        "    s = s.move(1,1)\n",
        "    s = s.move(2,-1)\n",
        "    s = s.move(3,-1)\n",
        "    s = s.move(4,1)\n",
        "    s = s.move(4,-1)\n",
        "    s = s.move(5,-1)\n",
        "    s = s.move(5,1)\n",
        "    s = s.move(5,-1)\n",
        "    s = s.move(6,1)\n",
        "    s = s.move(6,1)\n",
        "    s = s.move(6,1)\n",
        "    s = s.move(7,1)\n",
        "    s = s.move(7,1)\n",
        "    s = s.move(0,1)\n",
        "    s = s.move(0,1)\n",
        "    s = s.move(0,1)\n",
        "    print(s.success())\n",
        "    b = b and s.success()    \n",
        "    print(\"\\n\", \"résultat correct\" if b else \"mauvais résultat\")\n",
        "    \n",
        "test1()"
      ],
      "execution_count": 0,
      "outputs": [
        {
          "output_type": "stream",
          "text": [
            "True\n",
            "True\n",
            "0   1\n",
            "True\n",
            "True\n",
            "\n",
            " résultat correct\n"
          ],
          "name": "stdout"
        }
      ]
    },
    {
      "cell_type": "markdown",
      "metadata": {
        "id": "XkmG9gh9N1F3",
        "colab_type": "text"
      },
      "source": [
        "## 2. Mouvements possibles (15pts)\n",
        "Pour représenter le problème, nous allons utiliser la classe **RushHour** qui contient les champs suivants:\n",
        "\n",
        "- `nbcars`: le nombre de voitures dans la grille;\n",
        "- `horiz`: un vecteur contenant un bool indiquant si la voiture bouge horizontalement ou pas;\n",
        "- `length`: un vecteur contenant la longueur de chaque voiture (2 ou 3);\n",
        "- `move_on`: un vecteur contenant le numéro de la ligne ou la colonne où se trouve la voiture (0-5);\n",
        "- `color`: un vecteur contenant le string indiquant la couleur de chaque voiture;\n",
        "- `free_pos`: une matrice 6x6 contenant un bool permettant de savoir si la case est libre\n",
        "\n",
        "Toutes les informations pour une voiture se trouve dans le même index dans chacun des vecteurs."
      ]
    },
    {
      "cell_type": "code",
      "metadata": {
        "id": "B-OXRpOxN1F4",
        "colab_type": "code",
        "colab": {}
      },
      "source": [
        "from collections import deque\n",
        "import heapq\n",
        "\n",
        "class Rushhour:\n",
        "    \n",
        "    def __init__(self, horiz, length, move_on, color=None):\n",
        "        self.nbcars = len(horiz)\n",
        "        self.horiz = horiz\n",
        "        self.length = length\n",
        "        self.move_on = move_on\n",
        "        self.color = color\n",
        "        \n",
        "        self.free_pos = None\n",
        "    \n",
        "    def init_positions(self, state):\n",
        "        # TODO\n",
        "        occupied_square_indexes = []\n",
        "\n",
        "        for car_index, car_first_pos in enumerate(state.pos):\n",
        "          # for each squares the car occupies, set the square to false\n",
        "          car_is_horiz = self.horiz[car_index]\n",
        "          car_move_on = self.move_on[car_index]\n",
        "\n",
        "          for i in range(0, self.length[car_index]):\n",
        "            if car_is_horiz:\n",
        "              occupied_square_indexes.append((car_move_on, car_first_pos + i))\n",
        "            else:\n",
        "              occupied_square_indexes.append((car_first_pos + i, car_move_on))\n",
        "\n",
        "        self.free_pos = np.array([[(i,j) not in occupied_square_indexes for j in range(NB_SQUARES)] for i in range(NB_SQUARES)])\n",
        "\n",
        "\n",
        "    def possible_moves(self, state):\n",
        "      \n",
        "        self.init_positions(state)\n",
        "        new_states = []\n",
        "        # TODO\n",
        "        for car_index, car_first_pos in enumerate(state.pos):\n",
        "          car_move_on = self.move_on[car_index]\n",
        "          car_length = self.length[car_index]\n",
        "          is_horiz = self.horiz[car_index]\n",
        "        \n",
        "          # Check if we can back up one square\n",
        "          if car_first_pos != 0 and self._is_square_free(car_move_on, car_first_pos - 1, is_horiz):\n",
        "            new_states.append(state.move(car_index, -1))\n",
        "          \n",
        "          # Check if we can go forward one square\n",
        "          if car_first_pos + car_length < NB_SQUARES and self._is_square_free(car_move_on, car_first_pos + car_length, is_horiz):\n",
        "            new_states.append(state.move(car_index, 1)) \n",
        "\n",
        "        return new_states\n",
        "    \n",
        "    def solve(self, state):\n",
        "      \"\"\"\n",
        "      On cherche à faire une recherche en largeur sur cet arbre. On peut donc représenter la file par une liste (FIFO).\n",
        "      La file commence avec l'état initial. Tant que la liste n'est pas vide, on extrait le premier état. S'il est final, on termine l'algorithme.\n",
        "      Dans le cas contraire, on ajoute ses fils non visités à la fin de la liste. On ajoute ensuite cet état dans la liste visited.\n",
        "      \"\"\"\n",
        "      visited = set()\n",
        "      fifo = deque([state])\n",
        "      visited.add(state)\n",
        "      # TODO\n",
        "\n",
        "      while len(fifo) != 0:\n",
        "        state = fifo.popleft()\n",
        "\n",
        "        if state.success():\n",
        "          print(\"Solution found. %i states have been visited.\" % (int(len(visited))))\n",
        "          return state\n",
        "        else:\n",
        "          next_states = set(self.possible_moves(state)) - visited\n",
        "          fifo.extend(next_states)\n",
        "          visited.update(next_states)\n",
        "\n",
        "      print(\"No solution found\")\n",
        "      return None\n",
        "    \n",
        "                    \n",
        "    def solve_Astar(self, state):\n",
        "        visited = set()\n",
        "        visited.add(state)\n",
        "        \n",
        "        priority_queue = []\n",
        "        state.h = state.estimee1()\n",
        "        heapq.heappush(priority_queue, state)\n",
        "        \n",
        "        # TODO\n",
        "        return None\n",
        "    \n",
        "                    \n",
        "    def print_solution(self, state):\n",
        "      # TODO\n",
        "      direction_labels = [[\"la droite\", \"la gauche\"], [\"le bas\", \"le haut\"]]\n",
        "  \n",
        "      if state.prev is not None:\n",
        "        self.print_solution(state.prev)\n",
        "\n",
        "        direction = 0 if state.d == 1 else 1 # Converts state.d from -1 to 1 (go up or go left) and from 1 to 0 (go down or go right)\n",
        "        direction_label = direction_labels[0][direction] if self.horiz[state.c] else direction_labels[1][direction]\n",
        "\n",
        "        print(\"%i. Voiture %s vers %s\" % (int(state.nb_moves), self.color[state.c], direction_label))\n",
        "\n",
        "      return 0\n",
        "\n",
        "    def _is_square_free(self, x, y, is_horizontal):\n",
        "      \"\"\"\n",
        "      Checks if the x line and y column indexed if horizontal or\n",
        "      with y line and x column indexed square is a free space. \n",
        "      \"\"\"\n",
        "      x_index = x if is_horizontal else y\n",
        "      y_index = y if is_horizontal else x\n",
        "\n",
        "      return self.free_pos[x_index, y_index]"
      ],
      "execution_count": 0,
      "outputs": []
    },
    {
      "cell_type": "markdown",
      "metadata": {
        "id": "dnWM3-fCN1F6",
        "colab_type": "text"
      },
      "source": [
        "#### Implémentation \n",
        "   - Nous voulons utiliser une matrice 6x6 `free_pos` indiquant les cases du parking qui sont libres. Complétez la méthode **init_positions(State)** qui initialise la matrice `free_pos` en fonction de l'état donné avec les conventions que *True* signifie que la cases est libre et que `free_pos[i][j]` représente la case (ligne,colonne) du parking.\n",
        "\n",
        "Rouler la cellule suivante pour tester votre code. Elle testera la fonction ***init_positions(s)***. Vous devriez obtenir les résultats suivants:\n",
        "```\n",
        "[[False False  True  True  True False]\n",
        " [False  True  True False  True False]\n",
        " [False False False False  True False]\n",
        " [False  True  True False  True  True]\n",
        " [False  True  True  True False False]\n",
        " [False  True False False False  True]]\n",
        "```"
      ]
    },
    {
      "cell_type": "code",
      "metadata": {
        "id": "ufqeoZ2oN1F7",
        "colab_type": "code",
        "outputId": "aa6d6e0b-ea44-4abd-c55e-b0718b7585f8",
        "colab": {
          "base_uri": "https://localhost:8080/",
          "height": 156
        }
      },
      "source": [
        "def test2():\n",
        "    rh = Rushhour([True, True, False, False, True, True, False, False],\n",
        "                 [2, 2, 3, 2, 3, 2, 3, 3],\n",
        "                 [2, 0, 0, 0, 5, 4, 5, 3])\n",
        "    s = State([1, 0, 1, 4, 2, 4, 0, 1])\n",
        "    rh.init_positions(s)\n",
        "    \n",
        "    print(rh.free_pos)\n",
        "    ans = [[False,False,True,True,True,False],[False,True,True,False,True,False],[False,False,False,False,True,False],\n",
        "           [False,True,True,False,True,True],[False,True,True,True,False,False],[False,True,False,False,False,True]]\n",
        "    \n",
        "    # b = True # version originale du prof. Retourne toujours vrai\n",
        "    # b = b and (rh.free_pos[i,j] == ans[i,j] for i in range(6) for j in range(6))\n",
        "    b = all([rh.free_pos[i][j] == ans[i][j] for i in range(6) for j in range(6)])\n",
        "    print(\"\\n\", \"résultat correct\" if b else \"mauvais résultat\")\n",
        "            \n",
        "test2()"
      ],
      "execution_count": 0,
      "outputs": [
        {
          "output_type": "stream",
          "text": [
            "[[False False  True  True  True False]\n",
            " [False  True  True False  True False]\n",
            " [False False False False  True False]\n",
            " [False  True  True False  True  True]\n",
            " [False  True  True  True False False]\n",
            " [False  True False False False  True]]\n",
            "\n",
            " résultat correct\n"
          ],
          "name": "stdout"
        }
      ]
    },
    {
      "cell_type": "markdown",
      "metadata": {
        "id": "mI-y03qPN1F9",
        "colab_type": "text"
      },
      "source": [
        "#### Implémentation \n",
        "   - Complétez la méthode **possible_moves(state)**  qui renvoie l'ensemble d'états qui peuvent être atteints à partir de l'état *state*. Cet ensemble est représenté par une list de states; l'ordre dans la liste n'est pas important.\n",
        "\n",
        "Rouler la cellule suivante pour tester votre code. Elle testera la fonction ***possible_moves(state)***. Vous devriez obtenir les résultats suivants:\n",
        "```\n",
        "5\n",
        "6\n",
        "```\n",
        "Il y a 5 mouvements possibles à partir de l'état représenté par l'image au début du TP. Il y a 6 mouvements possibles à partir de l'état suivant où la voiture bleu s'est déplacée d'une case vers la droite."
      ]
    },
    {
      "cell_type": "code",
      "metadata": {
        "id": "bCfTec39N1GA",
        "colab_type": "code",
        "outputId": "d3e39e19-a103-4411-9611-028c18ece5d3",
        "colab": {
          "base_uri": "https://localhost:8080/",
          "height": 69
        }
      },
      "source": [
        "def test3():\n",
        "    rh = Rushhour([True, False, True, False, False, True, False, True, False, True, False, True],\n",
        "                 [2, 2, 3, 2, 3, 2, 2, 2, 2, 2, 2, 3],\n",
        "                 [2, 2, 0, 0, 3, 1, 1, 3, 0, 4, 5, 5])\n",
        "    s = State([1, 0, 3, 1, 1, 4, 3, 4, 4, 2, 4, 1])\n",
        "    s2 = State([1, 0, 3, 1, 1, 4, 3, 4, 4, 2, 4, 2])\n",
        "    print(len(rh.possible_moves(s)))\n",
        "    print(len(rh.possible_moves(s2)))\n",
        "\n",
        "print(\"Result should be: 5, 6\")\n",
        "test3()"
      ],
      "execution_count": 0,
      "outputs": [
        {
          "output_type": "stream",
          "text": [
            "Result should be: 5, 6\n",
            "5\n",
            "6\n"
          ],
          "name": "stdout"
        }
      ]
    },
    {
      "cell_type": "markdown",
      "metadata": {
        "id": "OQTZqSzRN1GD",
        "colab_type": "text"
      },
      "source": [
        "## 3. À la recherche d'une solution (25pts)\n",
        "\n",
        "Il est maintenant possible de chercher une solution avec les implémentations faites. Il y a deux idées principales: \n",
        "\n",
        "1. Nous cherchons la solution la plus rapide, il nous faut énumérer tous les états pour les ordonner en ordre croissant en terme de nombre de mouvements. On va donc utiliser une file de type FIFO. \n",
        "2. Il est nécessaire de mémoriser les états que l'on a déjà trouvé. Pour cela on va utiliser un ensemble hash. Il s'agit d'utiliser une variable locale **visited** de type *set*.\n",
        "\n",
        "On peut représenter un ensemble d'état par un arbre dont la racine est l'état initial et les nœuds correspondent aux états `s`. La relation entre chaque état est de type `s` *est fils de* `p`, où `s` et `p` sont deux états. Autrement dit, `s` peut être obtenu à partir de `p` en un mouvement.\n",
        "\n",
        "On cherche à faire une recherche en largeur sur cet arbre. On peut donc représenter la file par une liste (FIFO). La file commence avec l'état initial. Tant que la liste n'est pas vide, on extrait le premier état. S'il est final, on termine l'algorithme. Dans le cas contraire, on ajoute ses fils non visités à la fin de la liste. On ajoute ensuite cet état dans la liste `visited`.\n",
        "\n",
        "#### Implementation \n",
        "   - Complétez la méthode **solve** en implémentant cet algorithme. La méthode doit renvoyer un état final (la voiture rouge doit être juste devant la sortie). \n",
        "   - Complétez la méthode **printSolution(state)** qui affiche une solution à partir d'un état final `state`. Il faut afficher les mouvements des voitures dans le bon ordre.\n",
        "\n",
        "Utilisez la cellule suivante pour tester votre code. Vous devriez obtenir le résultat suivant:  \n",
        "Il y a 46 mouvement à faire pour résoudre le problème de la figure de départ. **Note** Votre solution peut être différente de celle présentée ici, cela dépend de la méthode de construction de la liste dans la méthode ``possible_moves``. Cependant votre solution doit avoir le même nombre de mouvements (46).\n",
        "\n",
        "<p style=\"font-size: 10pt\">\n",
        "\n",
        "```\n",
        "1. Voiture orange vers le haut\n",
        "2. Voiture rouge vers la gauche\n",
        "3. Voiture vert clair vers le bas\n",
        "4. Voiture vert clair vers le bas\n",
        "5. Voiture jaune vers la gauche\n",
        "6. Voiture jaune vers la gauche\n",
        "7. Voiture vert vers le haut\n",
        "8. Voiture noir vers la droite\n",
        "9. Voiture vert clair vers le bas\n",
        "10. Voiture rouge vers la droite\n",
        "11. Voiture orange vers le bas\n",
        "12. Voiture jaune vers la gauche\n",
        "13. Voiture violet clair vers le haut\n",
        "14. Voiture violet vers la gauche\n",
        "15. Voiture beige vers le haut\n",
        "16. Voiture beige vers le haut\n",
        "17. Voiture noir vers la droite\n",
        "18. Voiture bleu vers la droite\n",
        "19. Voiture rose vers le bas\n",
        "20. Voiture bleu vers la droite\n",
        "21. Voiture vert clair vers le bas\n",
        "22. Voiture violet vers la gauche\n",
        "23. Voiture violet vers la gauche\n",
        "24. Voiture violet clair vers le bas\n",
        "25. Voiture violet clair vers le bas\n",
        "26. Voiture bleu ciel vers la gauche\n",
        "27. Voiture bleu ciel vers la gauche\n",
        "28. Voiture bleu ciel vers la gauche\n",
        "29. Voiture violet clair vers le haut\n",
        "30. Voiture violet clair vers le haut\n",
        "31. Voiture violet vers la droite\n",
        "32. Voiture rose vers le haut\n",
        "33. Voiture violet vers la droite\n",
        "34. Voiture vert clair vers le haut\n",
        "35. Voiture beige vers le haut\n",
        "36. Voiture violet vers la droite\n",
        "37. Voiture violet clair vers le bas\n",
        "38. Voiture violet clair vers le bas\n",
        "39. Voiture beige vers le haut\n",
        "40. Voiture bleu vers la gauche\n",
        "41. Voiture bleu vers la gauche\n",
        "42. Voiture bleu vers la gauche\n",
        "43. Voiture violet clair vers le bas\n",
        "44. Voiture rouge vers la droite\n",
        "45. Voiture rouge vers la droite\n",
        "46. Voiture rouge vers la droite\n",
        "```\n",
        "    \n",
        "</p>"
      ]
    },
    {
      "cell_type": "code",
      "metadata": {
        "id": "E8EXwrK886OT",
        "colab_type": "code",
        "colab": {}
      },
      "source": [
        "def solve46(solve_with_a_star=False):\n",
        "    rh = Rushhour([True, False, True, False, False, True, False, True, False, True, False, True],\n",
        "                 [2, 2, 3, 2, 3, 2, 2, 2, 2, 2, 2, 3],\n",
        "                 [2, 2, 0, 0, 3, 1, 1, 3, 0, 4, 5, 5],\n",
        "                 [\"rouge\", \"vert clair\", \"jaune\", \"orange\", \"violet clair\", \"bleu ciel\", \"rose\", \"violet\", \"vert\", \"noir\", \"beige\", \"bleu\"])\n",
        "    s = State([1, 0, 3, 1, 1, 4, 3, 4, 4, 2, 4, 1])\n",
        "    if solve_with_a_star:\n",
        "      s = rh.solve_Astar(s)\n",
        "    else:\n",
        "      s = rh.solve(s)\n",
        "    rh.print_solution(s)\n",
        "\n",
        "def solve16(solve_with_a_star=False):\n",
        "    rh = Rushhour([True, True, False, False, True, True, False, False],\n",
        "                 [2, 2, 3, 2, 3, 2, 3, 3],\n",
        "                 [2, 0, 0, 0, 5, 4, 5, 3],\n",
        "                 [\"rouge\", \"vert clair\", \"violet\", \"orange\", \"vert\", \"bleu ciel\", \"jaune\", \"bleu\"])\n",
        "    s = State([1, 0, 1, 4, 2, 4, 0, 1])\n",
        "    if solve_with_a_star:\n",
        "      s = rh.solve_Astar(s)\n",
        "    else:\n",
        "      s = rh.solve(s)\n",
        "    n = rh.print_solution(s)\n",
        "    \n",
        "def solve81(solve_with_a_star=False):\n",
        "    rh = Rushhour([True, False, True, False, False, False, False, True, False, False, True, True, True],\n",
        "                 [2, 3, 2, 2, 2, 2, 3, 3, 2, 2, 2, 2, 2],\n",
        "                 [2, 0, 0, 4, 1, 2, 5, 3, 3, 2, 4, 5, 5],\n",
        "                 [\"rouge\", \"jaune\", \"vert clair\", \"orange\", \"bleu clair\", \"rose\", \"violet clair\",\"bleu\", \"violet\", \"vert\", \"noir\", \"beige\", \"jaune clair\"])\n",
        "    s = State([3, 0, 1, 0, 1, 1, 1, 0, 3, 4, 4, 0, 3])\n",
        "    if solve_with_a_star:\n",
        "      s = rh.solve_Astar(s)\n",
        "    else:\n",
        "      s = rh.solve(s)\n",
        "    n = rh.print_solution(s)"
      ],
      "execution_count": 0,
      "outputs": []
    },
    {
      "cell_type": "code",
      "metadata": {
        "id": "Hc2iXHYxN1GD",
        "colab_type": "code",
        "outputId": "2d5c081d-55d8-446c-db04-3c283fd7723e",
        "colab": {
          "base_uri": "https://localhost:8080/",
          "height": 920
        }
      },
      "source": [
        "solve46()\n",
        "print(\"\\n--------------------------------------------\\n\")\n",
        "%time"
      ],
      "execution_count": 0,
      "outputs": [
        {
          "output_type": "stream",
          "text": [
            "Solution found. 4902 states have been visited.\n",
            "1. Voiture vert vers le haut\n",
            "2. Voiture bleu vers la droite\n",
            "3. Voiture noir vers la droite\n",
            "4. Voiture orange vers le haut\n",
            "5. Voiture rouge vers la gauche\n",
            "6. Voiture rose vers le bas\n",
            "7. Voiture vert clair vers le bas\n",
            "8. Voiture vert clair vers le bas\n",
            "9. Voiture vert clair vers le bas\n",
            "10. Voiture rouge vers la droite\n",
            "11. Voiture orange vers le bas\n",
            "12. Voiture jaune vers la gauche\n",
            "13. Voiture jaune vers la gauche\n",
            "14. Voiture jaune vers la gauche\n",
            "15. Voiture violet clair vers le haut\n",
            "16. Voiture violet vers la gauche\n",
            "17. Voiture beige vers le haut\n",
            "18. Voiture bleu vers la droite\n",
            "19. Voiture vert clair vers le bas\n",
            "20. Voiture violet vers la gauche\n",
            "21. Voiture beige vers le haut\n",
            "22. Voiture violet vers la gauche\n",
            "23. Voiture noir vers la droite\n",
            "24. Voiture violet clair vers le bas\n",
            "25. Voiture violet clair vers le bas\n",
            "26. Voiture bleu ciel vers la gauche\n",
            "27. Voiture bleu ciel vers la gauche\n",
            "28. Voiture bleu ciel vers la gauche\n",
            "29. Voiture beige vers le haut\n",
            "30. Voiture violet clair vers le haut\n",
            "31. Voiture beige vers le haut\n",
            "32. Voiture violet clair vers le haut\n",
            "33. Voiture violet vers la droite\n",
            "34. Voiture violet vers la droite\n",
            "35. Voiture violet vers la droite\n",
            "36. Voiture vert clair vers le haut\n",
            "37. Voiture rose vers le haut\n",
            "38. Voiture violet clair vers le bas\n",
            "39. Voiture violet clair vers le bas\n",
            "40. Voiture bleu vers la gauche\n",
            "41. Voiture bleu vers la gauche\n",
            "42. Voiture bleu vers la gauche\n",
            "43. Voiture violet clair vers le bas\n",
            "44. Voiture rouge vers la droite\n",
            "45. Voiture rouge vers la droite\n",
            "46. Voiture rouge vers la droite\n",
            "\n",
            "--------------------------------------------\n",
            "\n",
            "CPU times: user 2 µs, sys: 0 ns, total: 2 µs\n",
            "Wall time: 5.01 µs\n"
          ],
          "name": "stdout"
        }
      ]
    },
    {
      "cell_type": "markdown",
      "metadata": {
        "id": "JCFs1QH1N1GG",
        "colab_type": "text"
      },
      "source": [
        "#### Tests\n",
        "Voici deux autres problèmes à résoudre : le premier doit être résolu en 16 mouvement; le second en 81."
      ]
    },
    {
      "cell_type": "code",
      "metadata": {
        "id": "oMAI0vyuN1GH",
        "colab_type": "code",
        "outputId": "2c1eefdf-1ec6-4763-97e0-c5a16752d953",
        "colab": {
          "base_uri": "https://localhost:8080/",
          "height": 1000
        }
      },
      "source": [
        "solve16()\n",
        "print(\"\\n--------------------------------------------\\n\")\n",
        "solve81()\n",
        "print(\"\\n--------------------------------------------\\n\")\n",
        "%time"
      ],
      "execution_count": 0,
      "outputs": [
        {
          "output_type": "stream",
          "text": [
            "Solution found. 1076 states have been visited.\n",
            "1. Voiture vert vers la gauche\n",
            "2. Voiture vert clair vers la droite\n",
            "3. Voiture bleu ciel vers la gauche\n",
            "4. Voiture violet vers le haut\n",
            "5. Voiture jaune vers le bas\n",
            "6. Voiture orange vers le haut\n",
            "7. Voiture vert vers la gauche\n",
            "8. Voiture bleu ciel vers la gauche\n",
            "9. Voiture bleu ciel vers la gauche\n",
            "10. Voiture bleu vers le bas\n",
            "11. Voiture bleu vers le bas\n",
            "12. Voiture rouge vers la droite\n",
            "13. Voiture rouge vers la droite\n",
            "14. Voiture jaune vers le bas\n",
            "15. Voiture jaune vers le bas\n",
            "16. Voiture rouge vers la droite\n",
            "\n",
            "--------------------------------------------\n",
            "\n"
          ],
          "name": "stdout"
        },
        {
          "output_type": "stream",
          "text": [
            "/usr/local/lib/python3.6/dist-packages/ipykernel_launcher.py:76: RuntimeWarning: overflow encountered in long_scalars\n"
          ],
          "name": "stderr"
        },
        {
          "output_type": "stream",
          "text": [
            "Solution found. 3109 states have been visited.\n",
            "1. Voiture violet clair vers le haut\n",
            "2. Voiture jaune clair vers la droite\n",
            "3. Voiture violet vers le bas\n",
            "4. Voiture bleu vers la droite\n",
            "5. Voiture bleu vers la droite\n",
            "6. Voiture jaune vers le bas\n",
            "7. Voiture vert clair vers la gauche\n",
            "8. Voiture bleu clair vers le bas\n",
            "9. Voiture bleu clair vers le bas\n",
            "10. Voiture bleu vers la droite\n",
            "11. Voiture vert vers le haut\n",
            "12. Voiture beige vers la droite\n",
            "13. Voiture rose vers le haut\n",
            "14. Voiture rouge vers la gauche\n",
            "15. Voiture rouge vers la gauche\n",
            "16. Voiture jaune vers le bas\n",
            "17. Voiture orange vers le bas\n",
            "18. Voiture jaune vers le bas\n",
            "19. Voiture rouge vers la gauche\n",
            "20. Voiture rose vers le bas\n",
            "21. Voiture vert clair vers la droite\n",
            "22. Voiture vert clair vers la droite\n",
            "23. Voiture vert clair vers la droite\n",
            "24. Voiture rose vers le haut\n",
            "25. Voiture rouge vers la droite\n",
            "26. Voiture rouge vers la droite\n",
            "27. Voiture bleu clair vers le haut\n",
            "28. Voiture bleu clair vers le haut\n",
            "29. Voiture bleu clair vers le haut\n",
            "30. Voiture jaune vers le haut\n",
            "31. Voiture rouge vers la gauche\n",
            "32. Voiture beige vers la gauche\n",
            "33. Voiture jaune vers le haut\n",
            "34. Voiture jaune vers le haut\n",
            "35. Voiture vert vers le bas\n",
            "36. Voiture bleu vers la gauche\n",
            "37. Voiture violet clair vers le bas\n",
            "38. Voiture vert clair vers la droite\n",
            "39. Voiture bleu vers la gauche\n",
            "40. Voiture bleu vers la gauche\n",
            "41. Voiture violet vers le haut\n",
            "42. Voiture violet vers le haut\n",
            "43. Voiture jaune clair vers la gauche\n",
            "44. Voiture violet vers le haut\n",
            "45. Voiture bleu vers la droite\n",
            "46. Voiture bleu vers la droite\n",
            "47. Voiture noir vers la gauche\n",
            "48. Voiture jaune vers le bas\n",
            "49. Voiture jaune vers le bas\n",
            "50. Voiture violet vers le haut\n",
            "51. Voiture rouge vers la droite\n",
            "52. Voiture bleu clair vers le bas\n",
            "53. Voiture bleu clair vers le bas\n",
            "54. Voiture bleu clair vers le bas\n",
            "55. Voiture rouge vers la gauche\n",
            "56. Voiture violet vers le bas\n",
            "57. Voiture vert clair vers la gauche\n",
            "58. Voiture violet clair vers le haut\n",
            "59. Voiture bleu vers la droite\n",
            "60. Voiture vert vers le haut\n",
            "61. Voiture beige vers la droite\n",
            "62. Voiture jaune vers le bas\n",
            "63. Voiture rouge vers la gauche\n",
            "64. Voiture rose vers le bas\n",
            "65. Voiture vert clair vers la gauche\n",
            "66. Voiture orange vers le haut\n",
            "67. Voiture vert clair vers la gauche\n",
            "68. Voiture vert clair vers la gauche\n",
            "69. Voiture violet vers le haut\n",
            "70. Voiture rose vers le haut\n",
            "71. Voiture rouge vers la droite\n",
            "72. Voiture rouge vers la droite\n",
            "73. Voiture jaune vers le haut\n",
            "74. Voiture rouge vers la droite\n",
            "75. Voiture beige vers la gauche\n",
            "76. Voiture vert vers le bas\n",
            "77. Voiture bleu vers la gauche\n",
            "78. Voiture violet clair vers le bas\n",
            "79. Voiture violet clair vers le bas\n",
            "80. Voiture violet clair vers le bas\n",
            "81. Voiture rouge vers la droite\n",
            "\n",
            "--------------------------------------------\n",
            "\n",
            "CPU times: user 2 µs, sys: 0 ns, total: 2 µs\n",
            "Wall time: 4.29 µs\n"
          ],
          "name": "stdout"
        }
      ]
    },
    {
      "cell_type": "markdown",
      "metadata": {
        "id": "Pi3wlli9N1GK",
        "colab_type": "text"
      },
      "source": [
        "## 4. A* algorithme (35pts)\n",
        "\n",
        "La méthode proposée précédemment utilise une recherche en largeur pour trouver la solution. Une solution plus rapide peut être mise en place avec un algorithme `A*`. L'idée principale de l'algorithme A* est d'insérer de *l'intelligence artificielle* à la méthode de résolution. Ceci est fait en utilisant une fonction d'estimation qui permet d'évaluer la distance entre un état et la solution. \n",
        "\n",
        "Au lieu d'utiliser une approche *first-in first-out (premier entré, premier sorti)* lors de la visite des états, l'algorithme A* défini une valeur de priorité pour chaque état, à partir de la fonction d'estimation, et commence par visiter les états les plus prioritaires. Pour cela, on utilise une structure de données bien plus appropriée : la file de priorité.\n",
        "\n",
        "En plus de la fonction d'estimation, A* doit aussi tenir compte d'une autre information importante : le coût actuel de l'état. Ce coût est tout simplement, dans notre cas, la distance entre l'état actuel et l'état initial. Ces deux éléments mis ensembles permettent de calculer la fonction d'estimation heuristique ***f*** d'un état `s`, comme la somme du coût actuel de l'état ***c*** et de l'estimation du coût restant ***h***. \n",
        "\n",
        "<center> f(s) = coût(s) + h(s) </center>\n",
        "\n",
        "**Mise en place de l'algorithme**\n",
        "\n",
        "- Il nous faut donc calculer le nombre de mouvements nécessaires pour atteindre l'état actuel, `coût(s)`. Pour le calculer, créez une variable `nb_moves` dans la classe `State` qui enregistre le nombre de mouvements effectués pour arriver à cet état. Cette variable commence à 0 et doit être incrémentée à chaque fois que l'on crée un nouvel état en utilisant la fonctione `move(c, d)`.\n",
        "\n",
        "Le coût de la fonction d'estimation est représenté par la variable `h`. Cette fonction estime le nombre de coups restants. Cette composante joue un rôle important dans l'efficacité de l'algorithme A*. Cette variable est utilisée dans la fonction `__lt__` de la classe State, qui compare la fonction estimative` f` de deux états. \n",
        "\n",
        "Il est donc important de créer une bonne fonction pour résoudre le problème. Plus cette fonction est efficace, moins d'états inutiles seront visités. Cette fonction doit par contre toujours renvoyer un minorant du nombre de coups restant. On va analyser deux fonctions différentes dans ce TP.\n",
        "\n",
        "#### Fonction 1: à partir de la distance entre la voiture Rouge et la sortie.\n",
        "- Complétez dans la classe State, la fonction ``estimee1()`` qui renvoie la distance entre la voiture rouge et la sortie.\n",
        "- Maintenant complétez la méthode `solve_Astar(state)` pour résoudre le problème de la même façon qu'au début du TP, mais en utilisant la file de priorité à la place d'une file ordinaire.\n",
        "- Modifiez les fonctions `solve_Astar(state)` et `solve(state)` de façon à compter et afficher le nombre d'états visités lors de la résolution.\n",
        "- Modifiez le code des fonctions `solve46(),solve16(),solve81()` pour résoudre les problèmes à l'aide de l'algorithme A*. Vérifiez que les solutions sont obtenues en autant de mouvements qu'avec le premier algorithme, mais avec un nombre inférieur d'Etats visités. \n",
        "\n",
        "N.B: Vous pouvez ajouter des cellules pour faire le test ou afficher les resultats des algorithmes dans une même cellule. Veuillez bien identifier les résultats affichés.\n",
        "\n",
        "#### Fonction 2:  à partir de la distance de la voiture rouge à la sortie et du nombre de voitures qui lui barrent le passage.\n",
        "- Complétez dans la classe State, la fonction `estimee2` qui renvoie la distance entre la voiture rouge et la sortie plus le nombre de voitures entre la voiture rouge et la sortie.  Utilisez le paramètre `rh` fourni de la classe RushHour pour accéder à la position des voitures dans la classe State. **Attention:** Il n'est pas possible d'utiliser directement la matrice `free_pos`, car celle-ci peut ne pas être mise à jour avec l'état en cours d'estimation.\n",
        "- Modifiez la fonction `solve_Astar` pour utiliser `estimee2()`.\n",
        "- Utiliser les exemples fournis (`solve46(), solve16()` et `solve81())` pour tester cet algorithme et le comparer aux précédents. Comparez le nombre d'état visités par chacun des algorithmes pour le problèmes fournis.\n",
        "\n",
        "N.B: Vous pouvez ajouter des cellules pour faire le test ou afficher les resultats des algorithmes dans une même cellule. Veuillez bien identifier les résultats affichés.\n",
        "\n"
      ]
    },
    {
      "cell_type": "code",
      "metadata": {
        "id": "aKmv_2p77_8j",
        "colab_type": "code",
        "colab": {}
      },
      "source": [
        "solve46(solve_with_a_star=True)\n",
        "print(\"\\n--------------------------------------------\\n\")\n",
        "%time"
      ],
      "execution_count": 0,
      "outputs": []
    },
    {
      "cell_type": "code",
      "metadata": {
        "id": "wbTs_1t38wXO",
        "colab_type": "code",
        "colab": {}
      },
      "source": [
        "solve16(solve_with_a_star=True)\n",
        "print(\"\\n--------------------------------------------\\n\")\n",
        "%time"
      ],
      "execution_count": 0,
      "outputs": []
    },
    {
      "cell_type": "code",
      "metadata": {
        "id": "JtcZNUKr8GkI",
        "colab_type": "code",
        "colab": {}
      },
      "source": [
        "solve81(solve_with_a_star=True)\n",
        "print(\"\\n--------------------------------------------\\n\")\n",
        "%time"
      ],
      "execution_count": 0,
      "outputs": []
    },
    {
      "cell_type": "markdown",
      "metadata": {
        "id": "4K2CP5w6eG17",
        "colab_type": "text"
      },
      "source": [
        "## 5. Amélioration de l'heuristique (10pts)\n",
        "Proposez une autre fonction heuristique pour le problème et tester là avec les exemples fournis (`solve46(), solve16()` et `solve81())`. Ajouter une fonction nommée `estimee3` et implémenter votre heuristique dedans. **Justifier votre choix d'heuristique.**"
      ]
    },
    {
      "cell_type": "markdown",
      "metadata": {
        "id": "9Un1nEJeTI-k",
        "colab_type": "text"
      },
      "source": [
        "## 6.  Directives de remise\n",
        "Le travail sera réalisé en équipe de trois. Vous remettrez ce fichier nommés TP1\\_NomDuMembre1\\_NomDuMembre2\\_NomDuMembre3.ipynb dans la boite de remise sur moodle. \n",
        "\n",
        "Tout devra être remis avant le **6 octobre à 23h55**. Tout travail en retard sera pénalisé\n",
        "d’une valeur de 10\\% par jour de retard.\n",
        "\n",
        "## Barême\n",
        "Partie 1: 15 points\n",
        "\n",
        "Partie 2: 15 points\n",
        "\n",
        "Partie 3: 25 points\n",
        "\n",
        "Partie 4: 35 points\n",
        "\n",
        "Partie 5: 10 points\n",
        "\n",
        "Pour un total de 100 points sur 100 points.\n"
      ]
    },
    {
      "cell_type": "markdown",
      "metadata": {
        "id": "2fasgcvtCcQJ",
        "colab_type": "text"
      },
      "source": [
        "*Ce TP a été imaginé par Steve Oudot et Jean-Christophe Filliâtre (Ecole polytechnique, France) et complété\n",
        "par Pierre Hulot et Rodrigo Randel."
      ]
    }
  ]
}